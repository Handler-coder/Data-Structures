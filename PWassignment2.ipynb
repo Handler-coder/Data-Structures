{
  "nbformat": 4,
  "nbformat_minor": 0,
  "metadata": {
    "colab": {
      "provenance": []
    },
    "kernelspec": {
      "name": "python3",
      "display_name": "Python 3"
    },
    "language_info": {
      "name": "python"
    }
  },
  "cells": [
    {
      "cell_type": "code",
      "execution_count": null,
      "metadata": {
        "id": "J-eoSrTGSO8q"
      },
      "outputs": [],
      "source": []
    },
    {
      "cell_type": "markdown",
      "source": [
        "###      **Theory** **Questions**\n",
        "\n",
        "\n",
        "1. # What are data structures, and why are they important?\n",
        "\n",
        "   Data structures are ways to organize and store data so that we can use it easily.\n",
        "   For example, we can store items in a list, just like writing items in a notebook. They help in saving time and making our programs faster and better.\n",
        "\n",
        "\n",
        "2. # Explain the difference between mutable and immutable data types with examples.\n",
        "\n",
        "  Mutable means we can change the data after creating it.\n",
        "  Example: list\n",
        "\n",
        "  my_list = [1, 2, 3]\n",
        "  my_list[0] = 100  # we changed it\n",
        "  \n",
        "  Immutable means we cannot change the data once it’s created. Example:\n",
        "  \n",
        "  tuple, string\n",
        "\n",
        "  my_tuple = (1, 2, 3)\n",
        "  my_tuple[0] = 100  -> this will give an error\n",
        "\n",
        "3. # What are the main differences between lists and tuples in Python?\n",
        "\n",
        "  Lists and tuples both store multiple items in Python, but:\n",
        "\n",
        "  Lists are changeable (mutable). You can add, remove, or update items.\n",
        "  Example: my_list[0] = 10\n",
        "\n",
        "  Tuples are unchangeable (immutable). Once created, you can’t edit them.\n",
        "  Example: my_tuple[0] = 10 will give an error.\n",
        "\n",
        "  Lists use [ ], tuples use ( ).\n",
        "\n",
        "  Tuples are faster and use less memory.\n",
        "\n",
        "\n",
        "4. # Describe how dictionaries store data.\n",
        "\n",
        "  Dictionaries store data in key-value pairs.\n",
        "  It’s like a real-life dictionary, you search a word (key), and get its meaning (value).\n",
        "  Example:\n",
        "\n",
        "  person = {\"name\": \"John\", \"age\": 25}\n",
        "\n",
        "\n",
        "5. # Why might you use a set instead of a list in Python?\n",
        "\n",
        "  We use sets when:\n",
        "\n",
        "  We don't want duplicate values.\n",
        "\n",
        "  We want faster checking.\n",
        "  Example:\n",
        "\n",
        "  my_set = {1, 2, 3, 2}\n",
        "  Output: {1, 2, 3} → no duplicates\n",
        "\n",
        "\n",
        "\n",
        "6. # What is a string in Python, and how is it different from a list?\n",
        "\n",
        "  A string is a group of characters. Like \"Hello\" is a string.\n",
        "  A list can hold many data types. numbers, strings, etc.\n",
        "  Also, strings are immutable, but lists are mutable.\n",
        "\n",
        "\n",
        "7. # How do tuples ensure data integrity in Python?\n",
        "\n",
        "  Tuples are immutable, once created, their values can't be changed.\n",
        "  This helps protect the data and makes sure no one accidentally edits it.\n",
        "\n",
        "8. # What is a hash table, and how does it relate to dictionaries in Python?\n",
        "\n",
        "   A hash table stores data using keys and values.\n",
        "   Python dictionaries are built using hash tables behind the scenes.\n",
        "   That’s why we can access values by key very quickly.\n",
        "\n",
        "9. # Can lists contain different data types in Python?\n",
        "\n",
        "  Yes, lists can have different data types.\n",
        "  Example:\n",
        "\n",
        "  my_list = [1, \"hello\", 3.14, True]\n",
        "\n",
        "\n",
        "10. # Explain why strings are immutable in Python.\n",
        "\n",
        "  Strings can't be changed after they are made.\n",
        "  This helps keep your program safe and runs faster, because the string stays the same and doesn’t change by mistake."
      ],
      "metadata": {
        "id": "MfidPBsISRMC"
      }
    },
    {
      "cell_type": "markdown",
      "source": [
        "### **Practical** **Questions**"
      ],
      "metadata": {
        "id": "d4yiuBY-Vr6m"
      }
    },
    {
      "cell_type": "markdown",
      "source": [
        "1. # Write a code to create a string with your name and print it"
      ],
      "metadata": {
        "id": "L0gENhYxVxmA"
      }
    },
    {
      "cell_type": "code",
      "source": [
        "name = \"Bharat\"\n",
        "print(name)\n"
      ],
      "metadata": {
        "colab": {
          "base_uri": "https://localhost:8080/"
        },
        "id": "x-YcBTyjV6xe",
        "outputId": "5cdf113a-7e36-4ef5-c951-6ac5cc7610e5"
      },
      "execution_count": 1,
      "outputs": [
        {
          "output_type": "stream",
          "name": "stdout",
          "text": [
            "Bharat\n"
          ]
        }
      ]
    },
    {
      "cell_type": "markdown",
      "source": [
        "2. # Write a code to find the length of the string \"Hello World\""
      ],
      "metadata": {
        "id": "NPo5kBLhWFGQ"
      }
    },
    {
      "cell_type": "code",
      "source": [
        "text = \"Hello World\"\n",
        "print(len(text))"
      ],
      "metadata": {
        "colab": {
          "base_uri": "https://localhost:8080/"
        },
        "id": "RzGRQ3g9WO9s",
        "outputId": "89b479d4-c5af-4b6e-f1ac-3b8c1b611d05"
      },
      "execution_count": 2,
      "outputs": [
        {
          "output_type": "stream",
          "name": "stdout",
          "text": [
            "11\n"
          ]
        }
      ]
    },
    {
      "cell_type": "markdown",
      "source": [
        "3. # Write a code to slice the first 3 characters from the string \"Python Programming\""
      ],
      "metadata": {
        "id": "rpCoyAVmWQz1"
      }
    },
    {
      "cell_type": "code",
      "source": [
        "text = \"Python Programming\"\n",
        "print(text[:3])"
      ],
      "metadata": {
        "colab": {
          "base_uri": "https://localhost:8080/"
        },
        "id": "zarl4vcYWYrr",
        "outputId": "7bc5ac3b-1b67-4a13-f1a8-3addb5a9e291"
      },
      "execution_count": 3,
      "outputs": [
        {
          "output_type": "stream",
          "name": "stdout",
          "text": [
            "Pyt\n"
          ]
        }
      ]
    },
    {
      "cell_type": "markdown",
      "source": [
        "4. # Write a code to convert the string \"hello\" to uppercase"
      ],
      "metadata": {
        "id": "iURUtOEqWcYT"
      }
    },
    {
      "cell_type": "code",
      "source": [
        "text = \"hello\"\n",
        "print(text.upper())\n"
      ],
      "metadata": {
        "colab": {
          "base_uri": "https://localhost:8080/"
        },
        "id": "M2RCuT7oWcoQ",
        "outputId": "d9ea5771-ebed-4b47-d2ad-880a21a90671"
      },
      "execution_count": 4,
      "outputs": [
        {
          "output_type": "stream",
          "name": "stdout",
          "text": [
            "HELLO\n"
          ]
        }
      ]
    },
    {
      "cell_type": "markdown",
      "source": [
        "5. # Write a code to replace the word \"apple\" with \"orange\" in the string \"I like apple\""
      ],
      "metadata": {
        "id": "OQL4HrQiWdMY"
      }
    },
    {
      "cell_type": "code",
      "source": [
        "s = \"I like apple\"\n",
        "print(s.replace(\"apple\", \"orange\"))\n"
      ],
      "metadata": {
        "colab": {
          "base_uri": "https://localhost:8080/"
        },
        "id": "GY3SeJp4W0Wp",
        "outputId": "baa9f7d8-e8d2-4da4-c68a-a8682783153d"
      },
      "execution_count": 5,
      "outputs": [
        {
          "output_type": "stream",
          "name": "stdout",
          "text": [
            "I like orange\n"
          ]
        }
      ]
    },
    {
      "cell_type": "markdown",
      "source": [
        "6. # Write a code to create a list with numbers 1 to 5 and print it"
      ],
      "metadata": {
        "id": "j3DNlCjNXGKY"
      }
    },
    {
      "cell_type": "code",
      "source": [
        "numbers = [1, 2, 3, 4, 5]\n",
        "print(numbers)"
      ],
      "metadata": {
        "colab": {
          "base_uri": "https://localhost:8080/"
        },
        "id": "G3HabebiXGyI",
        "outputId": "12e1a42a-9834-4610-aa1b-8f2777e319c0"
      },
      "execution_count": 6,
      "outputs": [
        {
          "output_type": "stream",
          "name": "stdout",
          "text": [
            "[1, 2, 3, 4, 5]\n"
          ]
        }
      ]
    },
    {
      "cell_type": "markdown",
      "source": [
        "7. # Write a code to append the number 10 to the list [1, 2, 3, 4]"
      ],
      "metadata": {
        "id": "TwSP8Gf2Xfol"
      }
    },
    {
      "cell_type": "code",
      "source": [
        "my_list = [1, 2, 3, 4]\n",
        "my_list.append(10)\n",
        "print(my_list)"
      ],
      "metadata": {
        "colab": {
          "base_uri": "https://localhost:8080/"
        },
        "id": "BGqzX8M8Xf6a",
        "outputId": "b9a1f91d-0651-41d0-d705-23266eac641c"
      },
      "execution_count": 7,
      "outputs": [
        {
          "output_type": "stream",
          "name": "stdout",
          "text": [
            "[1, 2, 3, 4, 10]\n"
          ]
        }
      ]
    },
    {
      "cell_type": "markdown",
      "source": [
        "8. # Write a code to remove the number 3 from the list [1, 2, 3, 4, 5]"
      ],
      "metadata": {
        "id": "YlvxpXUQXgQy"
      }
    },
    {
      "cell_type": "code",
      "source": [
        "my_list = [1, 2, 3, 4, 5]\n",
        "my_list.remove(3)\n",
        "print(my_list)\n"
      ],
      "metadata": {
        "colab": {
          "base_uri": "https://localhost:8080/"
        },
        "id": "R0a1Kn6lXgkU",
        "outputId": "96484ef0-655f-474f-e055-cad27c65dbe8"
      },
      "execution_count": 8,
      "outputs": [
        {
          "output_type": "stream",
          "name": "stdout",
          "text": [
            "[1, 2, 4, 5]\n"
          ]
        }
      ]
    },
    {
      "cell_type": "markdown",
      "source": [
        "9. # Write a code to access the second element in the list ['a', 'b', 'c', 'd']"
      ],
      "metadata": {
        "id": "kwwzGZzAX5UN"
      }
    },
    {
      "cell_type": "code",
      "source": [
        "letters = ['a', 'b', 'c', 'd']\n",
        "print(letters[1])"
      ],
      "metadata": {
        "colab": {
          "base_uri": "https://localhost:8080/"
        },
        "id": "VekANAu1X5ka",
        "outputId": "22927b1f-40ed-4e68-af1e-b8a6bd7814d0"
      },
      "execution_count": 9,
      "outputs": [
        {
          "output_type": "stream",
          "name": "stdout",
          "text": [
            "b\n"
          ]
        }
      ]
    },
    {
      "cell_type": "markdown",
      "source": [
        "10. # Write a code to reverse the list [10, 20, 30, 40, 50]"
      ],
      "metadata": {
        "id": "1a_j5bj9X54A"
      }
    },
    {
      "cell_type": "code",
      "source": [
        "my_list = [10, 20, 30, 40, 50]\n",
        "my_list.reverse()\n",
        "print(my_list)"
      ],
      "metadata": {
        "colab": {
          "base_uri": "https://localhost:8080/"
        },
        "id": "Du_BXMRTX6Jn",
        "outputId": "a283be33-0c7c-4d9e-f6b0-f4c93e350a8a"
      },
      "execution_count": 10,
      "outputs": [
        {
          "output_type": "stream",
          "name": "stdout",
          "text": [
            "[50, 40, 30, 20, 10]\n"
          ]
        }
      ]
    }
  ]
}